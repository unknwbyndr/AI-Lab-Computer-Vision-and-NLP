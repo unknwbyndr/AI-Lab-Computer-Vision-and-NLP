{
 "cells": [
  {
   "cell_type": "code",
   "execution_count": 1,
   "id": "32075b64",
   "metadata": {
    "_cell_guid": "b1076dfc-b9ad-4769-8c92-a6c4dae69d19",
    "_kg_hide-output": true,
    "_uuid": "8f2839f25d086af736a60e9eeb907d3b93b6e0e5",
    "execution": {
     "iopub.execute_input": "2024-12-26T05:43:44.923833Z",
     "iopub.status.busy": "2024-12-26T05:43:44.923597Z",
     "iopub.status.idle": "2024-12-26T05:44:24.371937Z",
     "shell.execute_reply": "2024-12-26T05:44:24.371204Z"
    },
    "papermill": {
     "duration": 39.454762,
     "end_time": "2024-12-26T05:44:24.373678",
     "exception": false,
     "start_time": "2024-12-26T05:43:44.918916",
     "status": "completed"
    },
    "tags": []
   },
   "outputs": [],
   "source": [
    "import numpy as np # linear algebra\n",
    "import pandas as pd # data processing, CSV file I/O (e.g. pd.read_csv)\n",
    "\n",
    "import os\n",
    "# Loop through the directories and files but do not print them\n",
    "for dirname, _, filenames in os.walk('/kaggle/input'):\n",
    "   \n",
    "    pass  \n"
   ]
  },
  {
   "cell_type": "code",
   "execution_count": 2,
   "id": "7413ad1f",
   "metadata": {
    "execution": {
     "iopub.execute_input": "2024-12-26T05:44:24.381968Z",
     "iopub.status.busy": "2024-12-26T05:44:24.381614Z",
     "iopub.status.idle": "2024-12-26T05:44:33.143813Z",
     "shell.execute_reply": "2024-12-26T05:44:33.142882Z"
    },
    "papermill": {
     "duration": 8.767725,
     "end_time": "2024-12-26T05:44:33.145461",
     "exception": false,
     "start_time": "2024-12-26T05:44:24.377736",
     "status": "completed"
    },
    "tags": []
   },
   "outputs": [],
   "source": [
    "# Importing necessary libraries for data processing, visualization, and deep learning\n",
    "import numpy as np \n",
    "import pandas as pd  \n",
    "import os  \n",
    "\n",
    "# Libraries for data visualization\n",
    "import matplotlib.pyplot as plt\n",
    "import seaborn as sns\n",
    "\n",
    "# Libraries for deep learning\n",
    "import tensorflow as tf\n",
    "from tensorflow import keras\n",
    "from keras.preprocessing import image\n",
    "from keras.models import Sequential\n",
    "from keras.layers import Conv2D, MaxPool2D, Flatten, Dense, Dropout, BatchNormalization\n",
    "from tensorflow.keras.preprocessing.image import ImageDataGenerator\n",
    "import cv2  # For image processing tasks\n",
    "\n",
    "# Pre-trained models for transfer learning\n",
    "from tensorflow.keras.applications import VGG16, InceptionResNetV2\n",
    "\n",
    "# Regularization and optimizers\n",
    "from keras import regularizers\n",
    "from tensorflow.keras.optimizers import Adam, RMSprop, SGD, Adamax\n"
   ]
  },
  {
   "cell_type": "code",
   "execution_count": 3,
   "id": "09648a3c",
   "metadata": {
    "execution": {
     "iopub.execute_input": "2024-12-26T05:44:33.153481Z",
     "iopub.status.busy": "2024-12-26T05:44:33.152971Z",
     "iopub.status.idle": "2024-12-26T05:44:33.156469Z",
     "shell.execute_reply": "2024-12-26T05:44:33.155679Z"
    },
    "papermill": {
     "duration": 0.008785,
     "end_time": "2024-12-26T05:44:33.157802",
     "exception": false,
     "start_time": "2024-12-26T05:44:33.149017",
     "status": "completed"
    },
    "tags": []
   },
   "outputs": [],
   "source": [
    "# Define the path to the directory containing the training images\n",
    "train_dir = \"/kaggle/input/fer2013/train\"\n",
    "\n",
    "# Define the path to the directory containing the testing images\n",
    "test_dir = \"/kaggle/input/fer2013/test\"\n"
   ]
  },
  {
   "cell_type": "code",
   "execution_count": 4,
   "id": "06ab80b7",
   "metadata": {
    "execution": {
     "iopub.execute_input": "2024-12-26T05:44:33.165513Z",
     "iopub.status.busy": "2024-12-26T05:44:33.165243Z",
     "iopub.status.idle": "2024-12-26T05:44:33.168390Z",
     "shell.execute_reply": "2024-12-26T05:44:33.167610Z"
    },
    "papermill": {
     "duration": 0.008428,
     "end_time": "2024-12-26T05:44:33.169713",
     "exception": false,
     "start_time": "2024-12-26T05:44:33.161285",
     "status": "completed"
    },
    "tags": []
   },
   "outputs": [],
   "source": [
    "# Set the image size to 48x48 pixels, which will be used for resizing images\n",
    "img_size = 48\n"
   ]
  },
  {
   "cell_type": "code",
   "execution_count": 5,
   "id": "1c1155f4",
   "metadata": {
    "execution": {
     "iopub.execute_input": "2024-12-26T05:44:33.177155Z",
     "iopub.status.busy": "2024-12-26T05:44:33.176912Z",
     "iopub.status.idle": "2024-12-26T05:44:33.180798Z",
     "shell.execute_reply": "2024-12-26T05:44:33.179950Z"
    },
    "papermill": {
     "duration": 0.008967,
     "end_time": "2024-12-26T05:44:33.182083",
     "exception": false,
     "start_time": "2024-12-26T05:44:33.173116",
     "status": "completed"
    },
    "tags": []
   },
   "outputs": [],
   "source": [
    "# Data augmentation for training images to improve model generalization\n",
    "train_datagen = ImageDataGenerator(\n",
    "    # rotation_range = 180,  \n",
    "    width_shift_range=0.1, \n",
    "    height_shift_range=0.1,  \n",
    "    horizontal_flip=True, \n",
    "    rescale=1.0 / 255,\n",
    "    # zoom_range = 0.2, \n",
    "    validation_split=0.2 \n",
    ")\n",
    "\n",
    "# Data preparation for validation images, only normalizing pixel values\n",
    "validation_datagen = ImageDataGenerator(\n",
    "    rescale=1.0 / 255,\n",
    "    validation_split=0.2 \n",
    ")\n"
   ]
  },
  {
   "cell_type": "code",
   "execution_count": 6,
   "id": "c5bcf31c",
   "metadata": {
    "execution": {
     "iopub.execute_input": "2024-12-26T05:44:33.190243Z",
     "iopub.status.busy": "2024-12-26T05:44:33.190023Z",
     "iopub.status.idle": "2024-12-26T05:44:43.403451Z",
     "shell.execute_reply": "2024-12-26T05:44:43.402734Z"
    },
    "papermill": {
     "duration": 10.218888,
     "end_time": "2024-12-26T05:44:43.404890",
     "exception": false,
     "start_time": "2024-12-26T05:44:33.186002",
     "status": "completed"
    },
    "tags": []
   },
   "outputs": [
    {
     "name": "stdout",
     "output_type": "stream",
     "text": [
      "Found 22968 images belonging to 7 classes.\n",
      "Found 1432 images belonging to 7 classes.\n"
     ]
    }
   ],
   "source": [
    "# Create a data generator for training images\n",
    "train_generator = train_datagen.flow_from_directory(\n",
    "    directory=train_dir, \n",
    "    target_size=(img_size, img_size),  \n",
    "    batch_size=64,  \n",
    "    color_mode=\"grayscale\",  \n",
    "    class_mode=\"categorical\",  \n",
    "    subset=\"training\"  \n",
    ")\n",
    "\n",
    "# Create a data generator for validation images\n",
    "validation_generator = validation_datagen.flow_from_directory(\n",
    "    directory=test_dir,  \n",
    "    target_size=(img_size, img_size),  \n",
    "    batch_size=64,  \n",
    "    color_mode=\"grayscale\",  \n",
    "    class_mode=\"categorical\",  \n",
    "    subset=\"validation\"  \n",
    ")"
   ]
  },
  {
   "cell_type": "code",
   "execution_count": 7,
   "id": "3ec93c7b",
   "metadata": {
    "execution": {
     "iopub.execute_input": "2024-12-26T05:44:43.413055Z",
     "iopub.status.busy": "2024-12-26T05:44:43.412828Z",
     "iopub.status.idle": "2024-12-26T05:44:44.214572Z",
     "shell.execute_reply": "2024-12-26T05:44:44.213774Z"
    },
    "papermill": {
     "duration": 0.807592,
     "end_time": "2024-12-26T05:44:44.216228",
     "exception": false,
     "start_time": "2024-12-26T05:44:43.408636",
     "status": "completed"
    },
    "tags": []
   },
   "outputs": [
    {
     "name": "stderr",
     "output_type": "stream",
     "text": [
      "/usr/local/lib/python3.10/dist-packages/keras/src/layers/convolutional/base_conv.py:107: UserWarning: Do not pass an `input_shape`/`input_dim` argument to a layer. When using Sequential models, prefer using an `Input(shape)` object as the first layer in the model instead.\n",
      "  super().__init__(activity_regularizer=activity_regularizer, **kwargs)\n"
     ]
    }
   ],
   "source": [
    "# Building a Convolutional Neural Network (CNN) using Keras\n",
    "model = tf.keras.Sequential([\n",
    "    tf.keras.layers.Conv2D(32, (3, 3), activation='relu', input_shape=(48, 48, 1)),\n",
    "    tf.keras.layers.Conv2D(64, (3, 3), padding='same', activation='relu'),\n",
    "    tf.keras.layers.BatchNormalization(),\n",
    "    tf.keras.layers.MaxPooling2D(2, 2),\n",
    "    tf.keras.layers.Dropout(0.25),\n",
    "\n",
    "    tf.keras.layers.Conv2D(128, (5, 5), padding='same', activation='relu'),\n",
    "    tf.keras.layers.BatchNormalization(),\n",
    "    tf.keras.layers.MaxPooling2D(2, 2),\n",
    "    tf.keras.layers.Dropout(0.25),\n",
    "\n",
    "    tf.keras.layers.Conv2D(512, (3, 3), padding='same', activation='relu', kernel_regularizer=tf.keras.regularizers.l2(0.01)),\n",
    "    tf.keras.layers.BatchNormalization(),\n",
    "    tf.keras.layers.MaxPooling2D(2, 2),\n",
    "    tf.keras.layers.Dropout(0.25),\n",
    "\n",
    "    tf.keras.layers.Conv2D(512, (3, 3), padding='same', activation='relu', kernel_regularizer=tf.keras.regularizers.l2(0.01)),\n",
    "    tf.keras.layers.BatchNormalization(),\n",
    "    tf.keras.layers.MaxPooling2D(2, 2),\n",
    "    tf.keras.layers.Dropout(0.25),\n",
    "\n",
    "    tf.keras.layers.Flatten(),\n",
    "    tf.keras.layers.Dense(256, activation='relu'),\n",
    "    tf.keras.layers.BatchNormalization(),\n",
    "    tf.keras.layers.Dropout(0.25),\n",
    "\n",
    "    tf.keras.layers.Dense(512, activation='relu'),\n",
    "    tf.keras.layers.BatchNormalization(),\n",
    "    tf.keras.layers.Dropout(0.25),\n",
    "\n",
    "    tf.keras.layers.Dense(7, activation='softmax')\n",
    "])\n"
   ]
  },
  {
   "cell_type": "code",
   "execution_count": 8,
   "id": "60911ccc",
   "metadata": {
    "execution": {
     "iopub.execute_input": "2024-12-26T05:44:44.225093Z",
     "iopub.status.busy": "2024-12-26T05:44:44.224815Z",
     "iopub.status.idle": "2024-12-26T05:44:44.267032Z",
     "shell.execute_reply": "2024-12-26T05:44:44.266092Z"
    },
    "papermill": {
     "duration": 0.048016,
     "end_time": "2024-12-26T05:44:44.268434",
     "exception": false,
     "start_time": "2024-12-26T05:44:44.220418",
     "status": "completed"
    },
    "tags": []
   },
   "outputs": [
    {
     "data": {
      "text/html": [
       "<pre style=\"white-space:pre;overflow-x:auto;line-height:normal;font-family:Menlo,'DejaVu Sans Mono',consolas,'Courier New',monospace\"><span style=\"font-weight: bold\">Model: \"sequential\"</span>\n",
       "</pre>\n"
      ],
      "text/plain": [
       "\u001b[1mModel: \"sequential\"\u001b[0m\n"
      ]
     },
     "metadata": {},
     "output_type": "display_data"
    },
    {
     "data": {
      "text/html": [
       "<pre style=\"white-space:pre;overflow-x:auto;line-height:normal;font-family:Menlo,'DejaVu Sans Mono',consolas,'Courier New',monospace\">┏━━━━━━━━━━━━━━━━━━━━━━━━━━━━━━━━━━━━━━┳━━━━━━━━━━━━━━━━━━━━━━━━━━━━━┳━━━━━━━━━━━━━━━━━┓\n",
       "┃<span style=\"font-weight: bold\"> Layer (type)                         </span>┃<span style=\"font-weight: bold\"> Output Shape                </span>┃<span style=\"font-weight: bold\">         Param # </span>┃\n",
       "┡━━━━━━━━━━━━━━━━━━━━━━━━━━━━━━━━━━━━━━╇━━━━━━━━━━━━━━━━━━━━━━━━━━━━━╇━━━━━━━━━━━━━━━━━┩\n",
       "│ conv2d (<span style=\"color: #0087ff; text-decoration-color: #0087ff\">Conv2D</span>)                      │ (<span style=\"color: #00d7ff; text-decoration-color: #00d7ff\">None</span>, <span style=\"color: #00af00; text-decoration-color: #00af00\">46</span>, <span style=\"color: #00af00; text-decoration-color: #00af00\">46</span>, <span style=\"color: #00af00; text-decoration-color: #00af00\">32</span>)          │             <span style=\"color: #00af00; text-decoration-color: #00af00\">320</span> │\n",
       "├──────────────────────────────────────┼─────────────────────────────┼─────────────────┤\n",
       "│ conv2d_1 (<span style=\"color: #0087ff; text-decoration-color: #0087ff\">Conv2D</span>)                    │ (<span style=\"color: #00d7ff; text-decoration-color: #00d7ff\">None</span>, <span style=\"color: #00af00; text-decoration-color: #00af00\">46</span>, <span style=\"color: #00af00; text-decoration-color: #00af00\">46</span>, <span style=\"color: #00af00; text-decoration-color: #00af00\">64</span>)          │          <span style=\"color: #00af00; text-decoration-color: #00af00\">18,496</span> │\n",
       "├──────────────────────────────────────┼─────────────────────────────┼─────────────────┤\n",
       "│ batch_normalization                  │ (<span style=\"color: #00d7ff; text-decoration-color: #00d7ff\">None</span>, <span style=\"color: #00af00; text-decoration-color: #00af00\">46</span>, <span style=\"color: #00af00; text-decoration-color: #00af00\">46</span>, <span style=\"color: #00af00; text-decoration-color: #00af00\">64</span>)          │             <span style=\"color: #00af00; text-decoration-color: #00af00\">256</span> │\n",
       "│ (<span style=\"color: #0087ff; text-decoration-color: #0087ff\">BatchNormalization</span>)                 │                             │                 │\n",
       "├──────────────────────────────────────┼─────────────────────────────┼─────────────────┤\n",
       "│ max_pooling2d (<span style=\"color: #0087ff; text-decoration-color: #0087ff\">MaxPooling2D</span>)         │ (<span style=\"color: #00d7ff; text-decoration-color: #00d7ff\">None</span>, <span style=\"color: #00af00; text-decoration-color: #00af00\">23</span>, <span style=\"color: #00af00; text-decoration-color: #00af00\">23</span>, <span style=\"color: #00af00; text-decoration-color: #00af00\">64</span>)          │               <span style=\"color: #00af00; text-decoration-color: #00af00\">0</span> │\n",
       "├──────────────────────────────────────┼─────────────────────────────┼─────────────────┤\n",
       "│ dropout (<span style=\"color: #0087ff; text-decoration-color: #0087ff\">Dropout</span>)                    │ (<span style=\"color: #00d7ff; text-decoration-color: #00d7ff\">None</span>, <span style=\"color: #00af00; text-decoration-color: #00af00\">23</span>, <span style=\"color: #00af00; text-decoration-color: #00af00\">23</span>, <span style=\"color: #00af00; text-decoration-color: #00af00\">64</span>)          │               <span style=\"color: #00af00; text-decoration-color: #00af00\">0</span> │\n",
       "├──────────────────────────────────────┼─────────────────────────────┼─────────────────┤\n",
       "│ conv2d_2 (<span style=\"color: #0087ff; text-decoration-color: #0087ff\">Conv2D</span>)                    │ (<span style=\"color: #00d7ff; text-decoration-color: #00d7ff\">None</span>, <span style=\"color: #00af00; text-decoration-color: #00af00\">23</span>, <span style=\"color: #00af00; text-decoration-color: #00af00\">23</span>, <span style=\"color: #00af00; text-decoration-color: #00af00\">128</span>)         │         <span style=\"color: #00af00; text-decoration-color: #00af00\">204,928</span> │\n",
       "├──────────────────────────────────────┼─────────────────────────────┼─────────────────┤\n",
       "│ batch_normalization_1                │ (<span style=\"color: #00d7ff; text-decoration-color: #00d7ff\">None</span>, <span style=\"color: #00af00; text-decoration-color: #00af00\">23</span>, <span style=\"color: #00af00; text-decoration-color: #00af00\">23</span>, <span style=\"color: #00af00; text-decoration-color: #00af00\">128</span>)         │             <span style=\"color: #00af00; text-decoration-color: #00af00\">512</span> │\n",
       "│ (<span style=\"color: #0087ff; text-decoration-color: #0087ff\">BatchNormalization</span>)                 │                             │                 │\n",
       "├──────────────────────────────────────┼─────────────────────────────┼─────────────────┤\n",
       "│ max_pooling2d_1 (<span style=\"color: #0087ff; text-decoration-color: #0087ff\">MaxPooling2D</span>)       │ (<span style=\"color: #00d7ff; text-decoration-color: #00d7ff\">None</span>, <span style=\"color: #00af00; text-decoration-color: #00af00\">11</span>, <span style=\"color: #00af00; text-decoration-color: #00af00\">11</span>, <span style=\"color: #00af00; text-decoration-color: #00af00\">128</span>)         │               <span style=\"color: #00af00; text-decoration-color: #00af00\">0</span> │\n",
       "├──────────────────────────────────────┼─────────────────────────────┼─────────────────┤\n",
       "│ dropout_1 (<span style=\"color: #0087ff; text-decoration-color: #0087ff\">Dropout</span>)                  │ (<span style=\"color: #00d7ff; text-decoration-color: #00d7ff\">None</span>, <span style=\"color: #00af00; text-decoration-color: #00af00\">11</span>, <span style=\"color: #00af00; text-decoration-color: #00af00\">11</span>, <span style=\"color: #00af00; text-decoration-color: #00af00\">128</span>)         │               <span style=\"color: #00af00; text-decoration-color: #00af00\">0</span> │\n",
       "├──────────────────────────────────────┼─────────────────────────────┼─────────────────┤\n",
       "│ conv2d_3 (<span style=\"color: #0087ff; text-decoration-color: #0087ff\">Conv2D</span>)                    │ (<span style=\"color: #00d7ff; text-decoration-color: #00d7ff\">None</span>, <span style=\"color: #00af00; text-decoration-color: #00af00\">11</span>, <span style=\"color: #00af00; text-decoration-color: #00af00\">11</span>, <span style=\"color: #00af00; text-decoration-color: #00af00\">512</span>)         │         <span style=\"color: #00af00; text-decoration-color: #00af00\">590,336</span> │\n",
       "├──────────────────────────────────────┼─────────────────────────────┼─────────────────┤\n",
       "│ batch_normalization_2                │ (<span style=\"color: #00d7ff; text-decoration-color: #00d7ff\">None</span>, <span style=\"color: #00af00; text-decoration-color: #00af00\">11</span>, <span style=\"color: #00af00; text-decoration-color: #00af00\">11</span>, <span style=\"color: #00af00; text-decoration-color: #00af00\">512</span>)         │           <span style=\"color: #00af00; text-decoration-color: #00af00\">2,048</span> │\n",
       "│ (<span style=\"color: #0087ff; text-decoration-color: #0087ff\">BatchNormalization</span>)                 │                             │                 │\n",
       "├──────────────────────────────────────┼─────────────────────────────┼─────────────────┤\n",
       "│ max_pooling2d_2 (<span style=\"color: #0087ff; text-decoration-color: #0087ff\">MaxPooling2D</span>)       │ (<span style=\"color: #00d7ff; text-decoration-color: #00d7ff\">None</span>, <span style=\"color: #00af00; text-decoration-color: #00af00\">5</span>, <span style=\"color: #00af00; text-decoration-color: #00af00\">5</span>, <span style=\"color: #00af00; text-decoration-color: #00af00\">512</span>)           │               <span style=\"color: #00af00; text-decoration-color: #00af00\">0</span> │\n",
       "├──────────────────────────────────────┼─────────────────────────────┼─────────────────┤\n",
       "│ dropout_2 (<span style=\"color: #0087ff; text-decoration-color: #0087ff\">Dropout</span>)                  │ (<span style=\"color: #00d7ff; text-decoration-color: #00d7ff\">None</span>, <span style=\"color: #00af00; text-decoration-color: #00af00\">5</span>, <span style=\"color: #00af00; text-decoration-color: #00af00\">5</span>, <span style=\"color: #00af00; text-decoration-color: #00af00\">512</span>)           │               <span style=\"color: #00af00; text-decoration-color: #00af00\">0</span> │\n",
       "├──────────────────────────────────────┼─────────────────────────────┼─────────────────┤\n",
       "│ conv2d_4 (<span style=\"color: #0087ff; text-decoration-color: #0087ff\">Conv2D</span>)                    │ (<span style=\"color: #00d7ff; text-decoration-color: #00d7ff\">None</span>, <span style=\"color: #00af00; text-decoration-color: #00af00\">5</span>, <span style=\"color: #00af00; text-decoration-color: #00af00\">5</span>, <span style=\"color: #00af00; text-decoration-color: #00af00\">512</span>)           │       <span style=\"color: #00af00; text-decoration-color: #00af00\">2,359,808</span> │\n",
       "├──────────────────────────────────────┼─────────────────────────────┼─────────────────┤\n",
       "│ batch_normalization_3                │ (<span style=\"color: #00d7ff; text-decoration-color: #00d7ff\">None</span>, <span style=\"color: #00af00; text-decoration-color: #00af00\">5</span>, <span style=\"color: #00af00; text-decoration-color: #00af00\">5</span>, <span style=\"color: #00af00; text-decoration-color: #00af00\">512</span>)           │           <span style=\"color: #00af00; text-decoration-color: #00af00\">2,048</span> │\n",
       "│ (<span style=\"color: #0087ff; text-decoration-color: #0087ff\">BatchNormalization</span>)                 │                             │                 │\n",
       "├──────────────────────────────────────┼─────────────────────────────┼─────────────────┤\n",
       "│ max_pooling2d_3 (<span style=\"color: #0087ff; text-decoration-color: #0087ff\">MaxPooling2D</span>)       │ (<span style=\"color: #00d7ff; text-decoration-color: #00d7ff\">None</span>, <span style=\"color: #00af00; text-decoration-color: #00af00\">2</span>, <span style=\"color: #00af00; text-decoration-color: #00af00\">2</span>, <span style=\"color: #00af00; text-decoration-color: #00af00\">512</span>)           │               <span style=\"color: #00af00; text-decoration-color: #00af00\">0</span> │\n",
       "├──────────────────────────────────────┼─────────────────────────────┼─────────────────┤\n",
       "│ dropout_3 (<span style=\"color: #0087ff; text-decoration-color: #0087ff\">Dropout</span>)                  │ (<span style=\"color: #00d7ff; text-decoration-color: #00d7ff\">None</span>, <span style=\"color: #00af00; text-decoration-color: #00af00\">2</span>, <span style=\"color: #00af00; text-decoration-color: #00af00\">2</span>, <span style=\"color: #00af00; text-decoration-color: #00af00\">512</span>)           │               <span style=\"color: #00af00; text-decoration-color: #00af00\">0</span> │\n",
       "├──────────────────────────────────────┼─────────────────────────────┼─────────────────┤\n",
       "│ flatten (<span style=\"color: #0087ff; text-decoration-color: #0087ff\">Flatten</span>)                    │ (<span style=\"color: #00d7ff; text-decoration-color: #00d7ff\">None</span>, <span style=\"color: #00af00; text-decoration-color: #00af00\">2048</span>)                │               <span style=\"color: #00af00; text-decoration-color: #00af00\">0</span> │\n",
       "├──────────────────────────────────────┼─────────────────────────────┼─────────────────┤\n",
       "│ dense (<span style=\"color: #0087ff; text-decoration-color: #0087ff\">Dense</span>)                        │ (<span style=\"color: #00d7ff; text-decoration-color: #00d7ff\">None</span>, <span style=\"color: #00af00; text-decoration-color: #00af00\">256</span>)                 │         <span style=\"color: #00af00; text-decoration-color: #00af00\">524,544</span> │\n",
       "├──────────────────────────────────────┼─────────────────────────────┼─────────────────┤\n",
       "│ batch_normalization_4                │ (<span style=\"color: #00d7ff; text-decoration-color: #00d7ff\">None</span>, <span style=\"color: #00af00; text-decoration-color: #00af00\">256</span>)                 │           <span style=\"color: #00af00; text-decoration-color: #00af00\">1,024</span> │\n",
       "│ (<span style=\"color: #0087ff; text-decoration-color: #0087ff\">BatchNormalization</span>)                 │                             │                 │\n",
       "├──────────────────────────────────────┼─────────────────────────────┼─────────────────┤\n",
       "│ dropout_4 (<span style=\"color: #0087ff; text-decoration-color: #0087ff\">Dropout</span>)                  │ (<span style=\"color: #00d7ff; text-decoration-color: #00d7ff\">None</span>, <span style=\"color: #00af00; text-decoration-color: #00af00\">256</span>)                 │               <span style=\"color: #00af00; text-decoration-color: #00af00\">0</span> │\n",
       "├──────────────────────────────────────┼─────────────────────────────┼─────────────────┤\n",
       "│ dense_1 (<span style=\"color: #0087ff; text-decoration-color: #0087ff\">Dense</span>)                      │ (<span style=\"color: #00d7ff; text-decoration-color: #00d7ff\">None</span>, <span style=\"color: #00af00; text-decoration-color: #00af00\">512</span>)                 │         <span style=\"color: #00af00; text-decoration-color: #00af00\">131,584</span> │\n",
       "├──────────────────────────────────────┼─────────────────────────────┼─────────────────┤\n",
       "│ batch_normalization_5                │ (<span style=\"color: #00d7ff; text-decoration-color: #00d7ff\">None</span>, <span style=\"color: #00af00; text-decoration-color: #00af00\">512</span>)                 │           <span style=\"color: #00af00; text-decoration-color: #00af00\">2,048</span> │\n",
       "│ (<span style=\"color: #0087ff; text-decoration-color: #0087ff\">BatchNormalization</span>)                 │                             │                 │\n",
       "├──────────────────────────────────────┼─────────────────────────────┼─────────────────┤\n",
       "│ dropout_5 (<span style=\"color: #0087ff; text-decoration-color: #0087ff\">Dropout</span>)                  │ (<span style=\"color: #00d7ff; text-decoration-color: #00d7ff\">None</span>, <span style=\"color: #00af00; text-decoration-color: #00af00\">512</span>)                 │               <span style=\"color: #00af00; text-decoration-color: #00af00\">0</span> │\n",
       "├──────────────────────────────────────┼─────────────────────────────┼─────────────────┤\n",
       "│ dense_2 (<span style=\"color: #0087ff; text-decoration-color: #0087ff\">Dense</span>)                      │ (<span style=\"color: #00d7ff; text-decoration-color: #00d7ff\">None</span>, <span style=\"color: #00af00; text-decoration-color: #00af00\">7</span>)                   │           <span style=\"color: #00af00; text-decoration-color: #00af00\">3,591</span> │\n",
       "└──────────────────────────────────────┴─────────────────────────────┴─────────────────┘\n",
       "</pre>\n"
      ],
      "text/plain": [
       "┏━━━━━━━━━━━━━━━━━━━━━━━━━━━━━━━━━━━━━━┳━━━━━━━━━━━━━━━━━━━━━━━━━━━━━┳━━━━━━━━━━━━━━━━━┓\n",
       "┃\u001b[1m \u001b[0m\u001b[1mLayer (type)                        \u001b[0m\u001b[1m \u001b[0m┃\u001b[1m \u001b[0m\u001b[1mOutput Shape               \u001b[0m\u001b[1m \u001b[0m┃\u001b[1m \u001b[0m\u001b[1m        Param #\u001b[0m\u001b[1m \u001b[0m┃\n",
       "┡━━━━━━━━━━━━━━━━━━━━━━━━━━━━━━━━━━━━━━╇━━━━━━━━━━━━━━━━━━━━━━━━━━━━━╇━━━━━━━━━━━━━━━━━┩\n",
       "│ conv2d (\u001b[38;5;33mConv2D\u001b[0m)                      │ (\u001b[38;5;45mNone\u001b[0m, \u001b[38;5;34m46\u001b[0m, \u001b[38;5;34m46\u001b[0m, \u001b[38;5;34m32\u001b[0m)          │             \u001b[38;5;34m320\u001b[0m │\n",
       "├──────────────────────────────────────┼─────────────────────────────┼─────────────────┤\n",
       "│ conv2d_1 (\u001b[38;5;33mConv2D\u001b[0m)                    │ (\u001b[38;5;45mNone\u001b[0m, \u001b[38;5;34m46\u001b[0m, \u001b[38;5;34m46\u001b[0m, \u001b[38;5;34m64\u001b[0m)          │          \u001b[38;5;34m18,496\u001b[0m │\n",
       "├──────────────────────────────────────┼─────────────────────────────┼─────────────────┤\n",
       "│ batch_normalization                  │ (\u001b[38;5;45mNone\u001b[0m, \u001b[38;5;34m46\u001b[0m, \u001b[38;5;34m46\u001b[0m, \u001b[38;5;34m64\u001b[0m)          │             \u001b[38;5;34m256\u001b[0m │\n",
       "│ (\u001b[38;5;33mBatchNormalization\u001b[0m)                 │                             │                 │\n",
       "├──────────────────────────────────────┼─────────────────────────────┼─────────────────┤\n",
       "│ max_pooling2d (\u001b[38;5;33mMaxPooling2D\u001b[0m)         │ (\u001b[38;5;45mNone\u001b[0m, \u001b[38;5;34m23\u001b[0m, \u001b[38;5;34m23\u001b[0m, \u001b[38;5;34m64\u001b[0m)          │               \u001b[38;5;34m0\u001b[0m │\n",
       "├──────────────────────────────────────┼─────────────────────────────┼─────────────────┤\n",
       "│ dropout (\u001b[38;5;33mDropout\u001b[0m)                    │ (\u001b[38;5;45mNone\u001b[0m, \u001b[38;5;34m23\u001b[0m, \u001b[38;5;34m23\u001b[0m, \u001b[38;5;34m64\u001b[0m)          │               \u001b[38;5;34m0\u001b[0m │\n",
       "├──────────────────────────────────────┼─────────────────────────────┼─────────────────┤\n",
       "│ conv2d_2 (\u001b[38;5;33mConv2D\u001b[0m)                    │ (\u001b[38;5;45mNone\u001b[0m, \u001b[38;5;34m23\u001b[0m, \u001b[38;5;34m23\u001b[0m, \u001b[38;5;34m128\u001b[0m)         │         \u001b[38;5;34m204,928\u001b[0m │\n",
       "├──────────────────────────────────────┼─────────────────────────────┼─────────────────┤\n",
       "│ batch_normalization_1                │ (\u001b[38;5;45mNone\u001b[0m, \u001b[38;5;34m23\u001b[0m, \u001b[38;5;34m23\u001b[0m, \u001b[38;5;34m128\u001b[0m)         │             \u001b[38;5;34m512\u001b[0m │\n",
       "│ (\u001b[38;5;33mBatchNormalization\u001b[0m)                 │                             │                 │\n",
       "├──────────────────────────────────────┼─────────────────────────────┼─────────────────┤\n",
       "│ max_pooling2d_1 (\u001b[38;5;33mMaxPooling2D\u001b[0m)       │ (\u001b[38;5;45mNone\u001b[0m, \u001b[38;5;34m11\u001b[0m, \u001b[38;5;34m11\u001b[0m, \u001b[38;5;34m128\u001b[0m)         │               \u001b[38;5;34m0\u001b[0m │\n",
       "├──────────────────────────────────────┼─────────────────────────────┼─────────────────┤\n",
       "│ dropout_1 (\u001b[38;5;33mDropout\u001b[0m)                  │ (\u001b[38;5;45mNone\u001b[0m, \u001b[38;5;34m11\u001b[0m, \u001b[38;5;34m11\u001b[0m, \u001b[38;5;34m128\u001b[0m)         │               \u001b[38;5;34m0\u001b[0m │\n",
       "├──────────────────────────────────────┼─────────────────────────────┼─────────────────┤\n",
       "│ conv2d_3 (\u001b[38;5;33mConv2D\u001b[0m)                    │ (\u001b[38;5;45mNone\u001b[0m, \u001b[38;5;34m11\u001b[0m, \u001b[38;5;34m11\u001b[0m, \u001b[38;5;34m512\u001b[0m)         │         \u001b[38;5;34m590,336\u001b[0m │\n",
       "├──────────────────────────────────────┼─────────────────────────────┼─────────────────┤\n",
       "│ batch_normalization_2                │ (\u001b[38;5;45mNone\u001b[0m, \u001b[38;5;34m11\u001b[0m, \u001b[38;5;34m11\u001b[0m, \u001b[38;5;34m512\u001b[0m)         │           \u001b[38;5;34m2,048\u001b[0m │\n",
       "│ (\u001b[38;5;33mBatchNormalization\u001b[0m)                 │                             │                 │\n",
       "├──────────────────────────────────────┼─────────────────────────────┼─────────────────┤\n",
       "│ max_pooling2d_2 (\u001b[38;5;33mMaxPooling2D\u001b[0m)       │ (\u001b[38;5;45mNone\u001b[0m, \u001b[38;5;34m5\u001b[0m, \u001b[38;5;34m5\u001b[0m, \u001b[38;5;34m512\u001b[0m)           │               \u001b[38;5;34m0\u001b[0m │\n",
       "├──────────────────────────────────────┼─────────────────────────────┼─────────────────┤\n",
       "│ dropout_2 (\u001b[38;5;33mDropout\u001b[0m)                  │ (\u001b[38;5;45mNone\u001b[0m, \u001b[38;5;34m5\u001b[0m, \u001b[38;5;34m5\u001b[0m, \u001b[38;5;34m512\u001b[0m)           │               \u001b[38;5;34m0\u001b[0m │\n",
       "├──────────────────────────────────────┼─────────────────────────────┼─────────────────┤\n",
       "│ conv2d_4 (\u001b[38;5;33mConv2D\u001b[0m)                    │ (\u001b[38;5;45mNone\u001b[0m, \u001b[38;5;34m5\u001b[0m, \u001b[38;5;34m5\u001b[0m, \u001b[38;5;34m512\u001b[0m)           │       \u001b[38;5;34m2,359,808\u001b[0m │\n",
       "├──────────────────────────────────────┼─────────────────────────────┼─────────────────┤\n",
       "│ batch_normalization_3                │ (\u001b[38;5;45mNone\u001b[0m, \u001b[38;5;34m5\u001b[0m, \u001b[38;5;34m5\u001b[0m, \u001b[38;5;34m512\u001b[0m)           │           \u001b[38;5;34m2,048\u001b[0m │\n",
       "│ (\u001b[38;5;33mBatchNormalization\u001b[0m)                 │                             │                 │\n",
       "├──────────────────────────────────────┼─────────────────────────────┼─────────────────┤\n",
       "│ max_pooling2d_3 (\u001b[38;5;33mMaxPooling2D\u001b[0m)       │ (\u001b[38;5;45mNone\u001b[0m, \u001b[38;5;34m2\u001b[0m, \u001b[38;5;34m2\u001b[0m, \u001b[38;5;34m512\u001b[0m)           │               \u001b[38;5;34m0\u001b[0m │\n",
       "├──────────────────────────────────────┼─────────────────────────────┼─────────────────┤\n",
       "│ dropout_3 (\u001b[38;5;33mDropout\u001b[0m)                  │ (\u001b[38;5;45mNone\u001b[0m, \u001b[38;5;34m2\u001b[0m, \u001b[38;5;34m2\u001b[0m, \u001b[38;5;34m512\u001b[0m)           │               \u001b[38;5;34m0\u001b[0m │\n",
       "├──────────────────────────────────────┼─────────────────────────────┼─────────────────┤\n",
       "│ flatten (\u001b[38;5;33mFlatten\u001b[0m)                    │ (\u001b[38;5;45mNone\u001b[0m, \u001b[38;5;34m2048\u001b[0m)                │               \u001b[38;5;34m0\u001b[0m │\n",
       "├──────────────────────────────────────┼─────────────────────────────┼─────────────────┤\n",
       "│ dense (\u001b[38;5;33mDense\u001b[0m)                        │ (\u001b[38;5;45mNone\u001b[0m, \u001b[38;5;34m256\u001b[0m)                 │         \u001b[38;5;34m524,544\u001b[0m │\n",
       "├──────────────────────────────────────┼─────────────────────────────┼─────────────────┤\n",
       "│ batch_normalization_4                │ (\u001b[38;5;45mNone\u001b[0m, \u001b[38;5;34m256\u001b[0m)                 │           \u001b[38;5;34m1,024\u001b[0m │\n",
       "│ (\u001b[38;5;33mBatchNormalization\u001b[0m)                 │                             │                 │\n",
       "├──────────────────────────────────────┼─────────────────────────────┼─────────────────┤\n",
       "│ dropout_4 (\u001b[38;5;33mDropout\u001b[0m)                  │ (\u001b[38;5;45mNone\u001b[0m, \u001b[38;5;34m256\u001b[0m)                 │               \u001b[38;5;34m0\u001b[0m │\n",
       "├──────────────────────────────────────┼─────────────────────────────┼─────────────────┤\n",
       "│ dense_1 (\u001b[38;5;33mDense\u001b[0m)                      │ (\u001b[38;5;45mNone\u001b[0m, \u001b[38;5;34m512\u001b[0m)                 │         \u001b[38;5;34m131,584\u001b[0m │\n",
       "├──────────────────────────────────────┼─────────────────────────────┼─────────────────┤\n",
       "│ batch_normalization_5                │ (\u001b[38;5;45mNone\u001b[0m, \u001b[38;5;34m512\u001b[0m)                 │           \u001b[38;5;34m2,048\u001b[0m │\n",
       "│ (\u001b[38;5;33mBatchNormalization\u001b[0m)                 │                             │                 │\n",
       "├──────────────────────────────────────┼─────────────────────────────┼─────────────────┤\n",
       "│ dropout_5 (\u001b[38;5;33mDropout\u001b[0m)                  │ (\u001b[38;5;45mNone\u001b[0m, \u001b[38;5;34m512\u001b[0m)                 │               \u001b[38;5;34m0\u001b[0m │\n",
       "├──────────────────────────────────────┼─────────────────────────────┼─────────────────┤\n",
       "│ dense_2 (\u001b[38;5;33mDense\u001b[0m)                      │ (\u001b[38;5;45mNone\u001b[0m, \u001b[38;5;34m7\u001b[0m)                   │           \u001b[38;5;34m3,591\u001b[0m │\n",
       "└──────────────────────────────────────┴─────────────────────────────┴─────────────────┘\n"
      ]
     },
     "metadata": {},
     "output_type": "display_data"
    },
    {
     "data": {
      "text/html": [
       "<pre style=\"white-space:pre;overflow-x:auto;line-height:normal;font-family:Menlo,'DejaVu Sans Mono',consolas,'Courier New',monospace\"><span style=\"font-weight: bold\"> Total params: </span><span style=\"color: #00af00; text-decoration-color: #00af00\">3,841,543</span> (14.65 MB)\n",
       "</pre>\n"
      ],
      "text/plain": [
       "\u001b[1m Total params: \u001b[0m\u001b[38;5;34m3,841,543\u001b[0m (14.65 MB)\n"
      ]
     },
     "metadata": {},
     "output_type": "display_data"
    },
    {
     "data": {
      "text/html": [
       "<pre style=\"white-space:pre;overflow-x:auto;line-height:normal;font-family:Menlo,'DejaVu Sans Mono',consolas,'Courier New',monospace\"><span style=\"font-weight: bold\"> Trainable params: </span><span style=\"color: #00af00; text-decoration-color: #00af00\">3,837,575</span> (14.64 MB)\n",
       "</pre>\n"
      ],
      "text/plain": [
       "\u001b[1m Trainable params: \u001b[0m\u001b[38;5;34m3,837,575\u001b[0m (14.64 MB)\n"
      ]
     },
     "metadata": {},
     "output_type": "display_data"
    },
    {
     "data": {
      "text/html": [
       "<pre style=\"white-space:pre;overflow-x:auto;line-height:normal;font-family:Menlo,'DejaVu Sans Mono',consolas,'Courier New',monospace\"><span style=\"font-weight: bold\"> Non-trainable params: </span><span style=\"color: #00af00; text-decoration-color: #00af00\">3,968</span> (15.50 KB)\n",
       "</pre>\n"
      ],
      "text/plain": [
       "\u001b[1m Non-trainable params: \u001b[0m\u001b[38;5;34m3,968\u001b[0m (15.50 KB)\n"
      ]
     },
     "metadata": {},
     "output_type": "display_data"
    }
   ],
   "source": [
    "# Initialize the Adam optimizer with a learning rate of 0.0001\n",
    "optimizer = tf.keras.optimizers.Adam(learning_rate=0.0001)\n",
    "\n",
    "# Compile the model with the chosen optimizer, loss function, and evaluation metric\n",
    "model.compile(\n",
    "    optimizer=optimizer, \n",
    "    loss='categorical_crossentropy',  \n",
    "    metrics=['accuracy']  \n",
    ")\n",
    "\n",
    "# Display the summary of the model architecture\n",
    "model.summary()\n"
   ]
  },
  {
   "cell_type": "code",
   "execution_count": 9,
   "id": "b93f2527",
   "metadata": {
    "execution": {
     "iopub.execute_input": "2024-12-26T05:44:44.278645Z",
     "iopub.status.busy": "2024-12-26T05:44:44.278408Z",
     "iopub.status.idle": "2024-12-26T05:44:44.281726Z",
     "shell.execute_reply": "2024-12-26T05:44:44.281034Z"
    },
    "papermill": {
     "duration": 0.009711,
     "end_time": "2024-12-26T05:44:44.283005",
     "exception": false,
     "start_time": "2024-12-26T05:44:44.273294",
     "status": "completed"
    },
    "tags": []
   },
   "outputs": [],
   "source": [
    "# Set the number of epochs for training the model\n",
    "epochs = 100  \n",
    "\n",
    "# Set the batch size, i.e., the number of samples to process before updating the model\n",
    "batch_size = 64  \n"
   ]
  },
  {
   "cell_type": "code",
   "execution_count": 10,
   "id": "9ede32ef",
   "metadata": {
    "execution": {
     "iopub.execute_input": "2024-12-26T05:44:44.292868Z",
     "iopub.status.busy": "2024-12-26T05:44:44.292659Z",
     "iopub.status.idle": "2024-12-26T06:37:12.784082Z",
     "shell.execute_reply": "2024-12-26T06:37:12.782927Z"
    },
    "papermill": {
     "duration": 3148.49796,
     "end_time": "2024-12-26T06:37:12.785613",
     "exception": false,
     "start_time": "2024-12-26T05:44:44.287653",
     "status": "completed"
    },
    "tags": []
   },
   "outputs": [
    {
     "name": "stdout",
     "output_type": "stream",
     "text": [
      "Training a new model from scratch...\n",
      "Epoch 1/100\n"
     ]
    },
    {
     "name": "stderr",
     "output_type": "stream",
     "text": [
      "/usr/local/lib/python3.10/dist-packages/keras/src/trainers/data_adapters/py_dataset_adapter.py:121: UserWarning: Your `PyDataset` class should call `super().__init__(**kwargs)` in its constructor. `**kwargs` can include `workers`, `use_multiprocessing`, `max_queue_size`. Do not pass these arguments to `fit()`, as they will be ignored.\n",
      "  self._warn_if_super_not_called()\n"
     ]
    },
    {
     "name": "stdout",
     "output_type": "stream",
     "text": [
      "\u001b[1m359/359\u001b[0m \u001b[32m━━━━━━━━━━━━━━━━━━━━\u001b[0m\u001b[37m\u001b[0m \u001b[1m137s\u001b[0m 339ms/step - accuracy: 0.1711 - loss: 9.5951 - val_accuracy: 0.2472 - val_loss: 8.5222\n",
      "Epoch 2/100\n",
      "\u001b[1m359/359\u001b[0m \u001b[32m━━━━━━━━━━━━━━━━━━━━\u001b[0m\u001b[37m\u001b[0m \u001b[1m28s\u001b[0m 76ms/step - accuracy: 0.2065 - loss: 8.5168 - val_accuracy: 0.2542 - val_loss: 7.5559\n",
      "Epoch 3/100\n",
      "\u001b[1m359/359\u001b[0m \u001b[32m━━━━━━━━━━━━━━━━━━━━\u001b[0m\u001b[37m\u001b[0m \u001b[1m30s\u001b[0m 82ms/step - accuracy: 0.2384 - loss: 7.5292 - val_accuracy: 0.3303 - val_loss: 6.5599\n",
      "Epoch 4/100\n",
      "\u001b[1m359/359\u001b[0m \u001b[32m━━━━━━━━━━━━━━━━━━━━\u001b[0m\u001b[37m\u001b[0m \u001b[1m28s\u001b[0m 78ms/step - accuracy: 0.2694 - loss: 6.5817 - val_accuracy: 0.3471 - val_loss: 5.6574\n",
      "Epoch 5/100\n",
      "\u001b[1m359/359\u001b[0m \u001b[32m━━━━━━━━━━━━━━━━━━━━\u001b[0m\u001b[37m\u001b[0m \u001b[1m30s\u001b[0m 82ms/step - accuracy: 0.2941 - loss: 5.6917 - val_accuracy: 0.3841 - val_loss: 4.8648\n",
      "Epoch 6/100\n",
      "\u001b[1m359/359\u001b[0m \u001b[32m━━━━━━━━━━━━━━━━━━━━\u001b[0m\u001b[37m\u001b[0m \u001b[1m28s\u001b[0m 76ms/step - accuracy: 0.3396 - loss: 4.8947 - val_accuracy: 0.3911 - val_loss: 4.2875\n",
      "Epoch 7/100\n",
      "\u001b[1m359/359\u001b[0m \u001b[32m━━━━━━━━━━━━━━━━━━━━\u001b[0m\u001b[37m\u001b[0m \u001b[1m30s\u001b[0m 81ms/step - accuracy: 0.3647 - loss: 4.2491 - val_accuracy: 0.4043 - val_loss: 3.7417\n",
      "Epoch 8/100\n",
      "\u001b[1m359/359\u001b[0m \u001b[32m━━━━━━━━━━━━━━━━━━━━\u001b[0m\u001b[37m\u001b[0m \u001b[1m42s\u001b[0m 84ms/step - accuracy: 0.3849 - loss: 3.7177 - val_accuracy: 0.4225 - val_loss: 3.2669\n",
      "Epoch 9/100\n",
      "\u001b[1m359/359\u001b[0m \u001b[32m━━━━━━━━━━━━━━━━━━━━\u001b[0m\u001b[37m\u001b[0m \u001b[1m29s\u001b[0m 80ms/step - accuracy: 0.4043 - loss: 3.2876 - val_accuracy: 0.4644 - val_loss: 2.8440\n",
      "Epoch 10/100\n",
      "\u001b[1m359/359\u001b[0m \u001b[32m━━━━━━━━━━━━━━━━━━━━\u001b[0m\u001b[37m\u001b[0m \u001b[1m30s\u001b[0m 83ms/step - accuracy: 0.4254 - loss: 2.9325 - val_accuracy: 0.4497 - val_loss: 2.7918\n",
      "Epoch 11/100\n",
      "\u001b[1m359/359\u001b[0m \u001b[32m━━━━━━━━━━━━━━━━━━━━\u001b[0m\u001b[37m\u001b[0m \u001b[1m30s\u001b[0m 82ms/step - accuracy: 0.4471 - loss: 2.6527 - val_accuracy: 0.5398 - val_loss: 2.2926\n",
      "Epoch 12/100\n",
      "\u001b[1m359/359\u001b[0m \u001b[32m━━━━━━━━━━━━━━━━━━━━\u001b[0m\u001b[37m\u001b[0m \u001b[1m29s\u001b[0m 79ms/step - accuracy: 0.4656 - loss: 2.4229 - val_accuracy: 0.5705 - val_loss: 2.1240\n",
      "Epoch 13/100\n",
      "\u001b[1m359/359\u001b[0m \u001b[32m━━━━━━━━━━━━━━━━━━━━\u001b[0m\u001b[37m\u001b[0m \u001b[1m29s\u001b[0m 80ms/step - accuracy: 0.4887 - loss: 2.2359 - val_accuracy: 0.5622 - val_loss: 1.9610\n",
      "Epoch 14/100\n",
      "\u001b[1m359/359\u001b[0m \u001b[32m━━━━━━━━━━━━━━━━━━━━\u001b[0m\u001b[37m\u001b[0m \u001b[1m29s\u001b[0m 78ms/step - accuracy: 0.5022 - loss: 2.0842 - val_accuracy: 0.5649 - val_loss: 1.8882\n",
      "Epoch 15/100\n",
      "\u001b[1m359/359\u001b[0m \u001b[32m━━━━━━━━━━━━━━━━━━━━\u001b[0m\u001b[37m\u001b[0m \u001b[1m29s\u001b[0m 81ms/step - accuracy: 0.5126 - loss: 1.9611 - val_accuracy: 0.5189 - val_loss: 1.9571\n",
      "Epoch 16/100\n",
      "\u001b[1m359/359\u001b[0m \u001b[32m━━━━━━━━━━━━━━━━━━━━\u001b[0m\u001b[37m\u001b[0m \u001b[1m29s\u001b[0m 78ms/step - accuracy: 0.5241 - loss: 1.8629 - val_accuracy: 0.5922 - val_loss: 1.6681\n",
      "Epoch 17/100\n",
      "\u001b[1m359/359\u001b[0m \u001b[32m━━━━━━━━━━━━━━━━━━━━\u001b[0m\u001b[37m\u001b[0m \u001b[1m31s\u001b[0m 84ms/step - accuracy: 0.5355 - loss: 1.7821 - val_accuracy: 0.5915 - val_loss: 1.6256\n",
      "Epoch 18/100\n",
      "\u001b[1m359/359\u001b[0m \u001b[32m━━━━━━━━━━━━━━━━━━━━\u001b[0m\u001b[37m\u001b[0m \u001b[1m32s\u001b[0m 88ms/step - accuracy: 0.5401 - loss: 1.7370 - val_accuracy: 0.6047 - val_loss: 1.5845\n",
      "Epoch 19/100\n",
      "\u001b[1m359/359\u001b[0m \u001b[32m━━━━━━━━━━━━━━━━━━━━\u001b[0m\u001b[37m\u001b[0m \u001b[1m37s\u001b[0m 101ms/step - accuracy: 0.5528 - loss: 1.6830 - val_accuracy: 0.5971 - val_loss: 1.5502\n",
      "Epoch 20/100\n",
      "\u001b[1m359/359\u001b[0m \u001b[32m━━━━━━━━━━━━━━━━━━━━\u001b[0m\u001b[37m\u001b[0m \u001b[1m35s\u001b[0m 96ms/step - accuracy: 0.5565 - loss: 1.6333 - val_accuracy: 0.5992 - val_loss: 1.5515\n",
      "Epoch 21/100\n",
      "\u001b[1m359/359\u001b[0m \u001b[32m━━━━━━━━━━━━━━━━━━━━\u001b[0m\u001b[37m\u001b[0m \u001b[1m29s\u001b[0m 78ms/step - accuracy: 0.5673 - loss: 1.5979 - val_accuracy: 0.6096 - val_loss: 1.5018\n",
      "Epoch 22/100\n",
      "\u001b[1m359/359\u001b[0m \u001b[32m━━━━━━━━━━━━━━━━━━━━\u001b[0m\u001b[37m\u001b[0m \u001b[1m30s\u001b[0m 82ms/step - accuracy: 0.5702 - loss: 1.5734 - val_accuracy: 0.6173 - val_loss: 1.4674\n",
      "Epoch 23/100\n",
      "\u001b[1m359/359\u001b[0m \u001b[32m━━━━━━━━━━━━━━━━━━━━\u001b[0m\u001b[37m\u001b[0m \u001b[1m31s\u001b[0m 85ms/step - accuracy: 0.5743 - loss: 1.5494 - val_accuracy: 0.6096 - val_loss: 1.4364\n",
      "Epoch 24/100\n",
      "\u001b[1m359/359\u001b[0m \u001b[32m━━━━━━━━━━━━━━━━━━━━\u001b[0m\u001b[37m\u001b[0m \u001b[1m34s\u001b[0m 93ms/step - accuracy: 0.5770 - loss: 1.5208 - val_accuracy: 0.6313 - val_loss: 1.4046\n",
      "Epoch 25/100\n",
      "\u001b[1m359/359\u001b[0m \u001b[32m━━━━━━━━━━━━━━━━━━━━\u001b[0m\u001b[37m\u001b[0m \u001b[1m33s\u001b[0m 90ms/step - accuracy: 0.5913 - loss: 1.4929 - val_accuracy: 0.5831 - val_loss: 1.5242\n",
      "Epoch 26/100\n",
      "\u001b[1m359/359\u001b[0m \u001b[32m━━━━━━━━━━━━━━━━━━━━\u001b[0m\u001b[37m\u001b[0m \u001b[1m35s\u001b[0m 97ms/step - accuracy: 0.5966 - loss: 1.4697 - val_accuracy: 0.6201 - val_loss: 1.4188\n",
      "Epoch 27/100\n",
      "\u001b[1m359/359\u001b[0m \u001b[32m━━━━━━━━━━━━━━━━━━━━\u001b[0m\u001b[37m\u001b[0m \u001b[1m32s\u001b[0m 88ms/step - accuracy: 0.6047 - loss: 1.4478 - val_accuracy: 0.6075 - val_loss: 1.4346\n",
      "Epoch 28/100\n",
      "\u001b[1m359/359\u001b[0m \u001b[32m━━━━━━━━━━━━━━━━━━━━\u001b[0m\u001b[37m\u001b[0m \u001b[1m33s\u001b[0m 90ms/step - accuracy: 0.6017 - loss: 1.4546 - val_accuracy: 0.6243 - val_loss: 1.3835\n",
      "Epoch 29/100\n",
      "\u001b[1m359/359\u001b[0m \u001b[32m━━━━━━━━━━━━━━━━━━━━\u001b[0m\u001b[37m\u001b[0m \u001b[1m35s\u001b[0m 95ms/step - accuracy: 0.6101 - loss: 1.4325 - val_accuracy: 0.6110 - val_loss: 1.4290\n",
      "Epoch 30/100\n",
      "\u001b[1m359/359\u001b[0m \u001b[32m━━━━━━━━━━━━━━━━━━━━\u001b[0m\u001b[37m\u001b[0m \u001b[1m35s\u001b[0m 94ms/step - accuracy: 0.6051 - loss: 1.4467 - val_accuracy: 0.6446 - val_loss: 1.3599\n",
      "Epoch 31/100\n",
      "\u001b[1m359/359\u001b[0m \u001b[32m━━━━━━━━━━━━━━━━━━━━\u001b[0m\u001b[37m\u001b[0m \u001b[1m32s\u001b[0m 89ms/step - accuracy: 0.6128 - loss: 1.4256 - val_accuracy: 0.6459 - val_loss: 1.3665\n",
      "Epoch 32/100\n",
      "\u001b[1m359/359\u001b[0m \u001b[32m━━━━━━━━━━━━━━━━━━━━\u001b[0m\u001b[37m\u001b[0m \u001b[1m31s\u001b[0m 83ms/step - accuracy: 0.6155 - loss: 1.4071 - val_accuracy: 0.6369 - val_loss: 1.3826\n",
      "Epoch 33/100\n",
      "\u001b[1m359/359\u001b[0m \u001b[32m━━━━━━━━━━━━━━━━━━━━\u001b[0m\u001b[37m\u001b[0m \u001b[1m32s\u001b[0m 87ms/step - accuracy: 0.6208 - loss: 1.4016 - val_accuracy: 0.6201 - val_loss: 1.3900\n",
      "Epoch 34/100\n",
      "\u001b[1m359/359\u001b[0m \u001b[32m━━━━━━━━━━━━━━━━━━━━\u001b[0m\u001b[37m\u001b[0m \u001b[1m30s\u001b[0m 81ms/step - accuracy: 0.6209 - loss: 1.3969 - val_accuracy: 0.6306 - val_loss: 1.3727\n",
      "Epoch 35/100\n",
      "\u001b[1m359/359\u001b[0m \u001b[32m━━━━━━━━━━━━━━━━━━━━\u001b[0m\u001b[37m\u001b[0m \u001b[1m32s\u001b[0m 87ms/step - accuracy: 0.6304 - loss: 1.3938 - val_accuracy: 0.6327 - val_loss: 1.3685\n",
      "Epoch 36/100\n",
      "\u001b[1m359/359\u001b[0m \u001b[32m━━━━━━━━━━━━━━━━━━━━\u001b[0m\u001b[37m\u001b[0m \u001b[1m29s\u001b[0m 80ms/step - accuracy: 0.6330 - loss: 1.3840 - val_accuracy: 0.6683 - val_loss: 1.3391\n",
      "Epoch 37/100\n",
      "\u001b[1m359/359\u001b[0m \u001b[32m━━━━━━━━━━━━━━━━━━━━\u001b[0m\u001b[37m\u001b[0m \u001b[1m31s\u001b[0m 85ms/step - accuracy: 0.6360 - loss: 1.3767 - val_accuracy: 0.6383 - val_loss: 1.3842\n",
      "Epoch 38/100\n",
      "\u001b[1m359/359\u001b[0m \u001b[32m━━━━━━━━━━━━━━━━━━━━\u001b[0m\u001b[37m\u001b[0m \u001b[1m29s\u001b[0m 80ms/step - accuracy: 0.6359 - loss: 1.3766 - val_accuracy: 0.6236 - val_loss: 1.4105\n",
      "Epoch 39/100\n",
      "\u001b[1m359/359\u001b[0m \u001b[32m━━━━━━━━━━━━━━━━━━━━\u001b[0m\u001b[37m\u001b[0m \u001b[1m30s\u001b[0m 83ms/step - accuracy: 0.6341 - loss: 1.3766 - val_accuracy: 0.6425 - val_loss: 1.3469\n",
      "Epoch 40/100\n",
      "\u001b[1m359/359\u001b[0m \u001b[32m━━━━━━━━━━━━━━━━━━━━\u001b[0m\u001b[37m\u001b[0m \u001b[1m30s\u001b[0m 81ms/step - accuracy: 0.6393 - loss: 1.3617 - val_accuracy: 0.6641 - val_loss: 1.3245\n",
      "Epoch 41/100\n",
      "\u001b[1m359/359\u001b[0m \u001b[32m━━━━━━━━━━━━━━━━━━━━\u001b[0m\u001b[37m\u001b[0m \u001b[1m31s\u001b[0m 85ms/step - accuracy: 0.6472 - loss: 1.3583 - val_accuracy: 0.6704 - val_loss: 1.3322\n",
      "Epoch 42/100\n",
      "\u001b[1m359/359\u001b[0m \u001b[32m━━━━━━━━━━━━━━━━━━━━\u001b[0m\u001b[37m\u001b[0m \u001b[1m29s\u001b[0m 79ms/step - accuracy: 0.6395 - loss: 1.3614 - val_accuracy: 0.6634 - val_loss: 1.3287\n",
      "Epoch 43/100\n",
      "\u001b[1m359/359\u001b[0m \u001b[32m━━━━━━━━━━━━━━━━━━━━\u001b[0m\u001b[37m\u001b[0m \u001b[1m30s\u001b[0m 82ms/step - accuracy: 0.6454 - loss: 1.3547 - val_accuracy: 0.6341 - val_loss: 1.3831\n",
      "Epoch 44/100\n",
      "\u001b[1m359/359\u001b[0m \u001b[32m━━━━━━━━━━━━━━━━━━━━\u001b[0m\u001b[37m\u001b[0m \u001b[1m28s\u001b[0m 77ms/step - accuracy: 0.6446 - loss: 1.3585 - val_accuracy: 0.6641 - val_loss: 1.3489\n",
      "Epoch 45/100\n",
      "\u001b[1m359/359\u001b[0m \u001b[32m━━━━━━━━━━━━━━━━━━━━\u001b[0m\u001b[37m\u001b[0m \u001b[1m29s\u001b[0m 80ms/step - accuracy: 0.6417 - loss: 1.3698 - val_accuracy: 0.6453 - val_loss: 1.3711\n",
      "Epoch 46/100\n",
      "\u001b[1m359/359\u001b[0m \u001b[32m━━━━━━━━━━━━━━━━━━━━\u001b[0m\u001b[37m\u001b[0m \u001b[1m28s\u001b[0m 76ms/step - accuracy: 0.6487 - loss: 1.3573 - val_accuracy: 0.6669 - val_loss: 1.3263\n",
      "Epoch 47/100\n",
      "\u001b[1m359/359\u001b[0m \u001b[32m━━━━━━━━━━━━━━━━━━━━\u001b[0m\u001b[37m\u001b[0m \u001b[1m29s\u001b[0m 80ms/step - accuracy: 0.6542 - loss: 1.3507 - val_accuracy: 0.6662 - val_loss: 1.3457\n",
      "Epoch 48/100\n",
      "\u001b[1m359/359\u001b[0m \u001b[32m━━━━━━━━━━━━━━━━━━━━\u001b[0m\u001b[37m\u001b[0m \u001b[1m28s\u001b[0m 78ms/step - accuracy: 0.6578 - loss: 1.3538 - val_accuracy: 0.6571 - val_loss: 1.3530\n",
      "Epoch 49/100\n",
      "\u001b[1m359/359\u001b[0m \u001b[32m━━━━━━━━━━━━━━━━━━━━\u001b[0m\u001b[37m\u001b[0m \u001b[1m29s\u001b[0m 79ms/step - accuracy: 0.6643 - loss: 1.3339 - val_accuracy: 0.6662 - val_loss: 1.3279\n",
      "Epoch 50/100\n",
      "\u001b[1m359/359\u001b[0m \u001b[32m━━━━━━━━━━━━━━━━━━━━\u001b[0m\u001b[37m\u001b[0m \u001b[1m28s\u001b[0m 77ms/step - accuracy: 0.6549 - loss: 1.3487 - val_accuracy: 0.6627 - val_loss: 1.3666\n",
      "Epoch 51/100\n",
      "\u001b[1m359/359\u001b[0m \u001b[32m━━━━━━━━━━━━━━━━━━━━\u001b[0m\u001b[37m\u001b[0m \u001b[1m29s\u001b[0m 80ms/step - accuracy: 0.6605 - loss: 1.3476 - val_accuracy: 0.6711 - val_loss: 1.3351\n",
      "Epoch 52/100\n",
      "\u001b[1m359/359\u001b[0m \u001b[32m━━━━━━━━━━━━━━━━━━━━\u001b[0m\u001b[37m\u001b[0m \u001b[1m29s\u001b[0m 80ms/step - accuracy: 0.6602 - loss: 1.3441 - val_accuracy: 0.6697 - val_loss: 1.3510\n",
      "Epoch 53/100\n",
      "\u001b[1m359/359\u001b[0m \u001b[32m━━━━━━━━━━━━━━━━━━━━\u001b[0m\u001b[37m\u001b[0m \u001b[1m29s\u001b[0m 79ms/step - accuracy: 0.6642 - loss: 1.3302 - val_accuracy: 0.6599 - val_loss: 1.3604\n",
      "Epoch 54/100\n",
      "\u001b[1m359/359\u001b[0m \u001b[32m━━━━━━━━━━━━━━━━━━━━\u001b[0m\u001b[37m\u001b[0m \u001b[1m30s\u001b[0m 82ms/step - accuracy: 0.6680 - loss: 1.3294 - val_accuracy: 0.6648 - val_loss: 1.3505\n",
      "Epoch 55/100\n",
      "\u001b[1m359/359\u001b[0m \u001b[32m━━━━━━━━━━━━━━━━━━━━\u001b[0m\u001b[37m\u001b[0m \u001b[1m29s\u001b[0m 80ms/step - accuracy: 0.6543 - loss: 1.3332 - val_accuracy: 0.6641 - val_loss: 1.3564\n",
      "Epoch 56/100\n",
      "\u001b[1m359/359\u001b[0m \u001b[32m━━━━━━━━━━━━━━━━━━━━\u001b[0m\u001b[37m\u001b[0m \u001b[1m30s\u001b[0m 83ms/step - accuracy: 0.6674 - loss: 1.3305 - val_accuracy: 0.6725 - val_loss: 1.3607\n",
      "Epoch 57/100\n",
      "\u001b[1m359/359\u001b[0m \u001b[32m━━━━━━━━━━━━━━━━━━━━\u001b[0m\u001b[37m\u001b[0m \u001b[1m31s\u001b[0m 85ms/step - accuracy: 0.6658 - loss: 1.3280 - val_accuracy: 0.6725 - val_loss: 1.3399\n",
      "Epoch 58/100\n",
      "\u001b[1m359/359\u001b[0m \u001b[32m━━━━━━━━━━━━━━━━━━━━\u001b[0m\u001b[37m\u001b[0m \u001b[1m32s\u001b[0m 87ms/step - accuracy: 0.6680 - loss: 1.3261 - val_accuracy: 0.6830 - val_loss: 1.3465\n",
      "Epoch 59/100\n",
      "\u001b[1m359/359\u001b[0m \u001b[32m━━━━━━━━━━━━━━━━━━━━\u001b[0m\u001b[37m\u001b[0m \u001b[1m32s\u001b[0m 89ms/step - accuracy: 0.6692 - loss: 1.3319 - val_accuracy: 0.6690 - val_loss: 1.3611\n",
      "Epoch 60/100\n",
      "\u001b[1m359/359\u001b[0m \u001b[32m━━━━━━━━━━━━━━━━━━━━\u001b[0m\u001b[37m\u001b[0m \u001b[1m32s\u001b[0m 89ms/step - accuracy: 0.6756 - loss: 1.3164 - val_accuracy: 0.6739 - val_loss: 1.3472\n",
      "Epoch 61/100\n",
      "\u001b[1m359/359\u001b[0m \u001b[32m━━━━━━━━━━━━━━━━━━━━\u001b[0m\u001b[37m\u001b[0m \u001b[1m34s\u001b[0m 92ms/step - accuracy: 0.6737 - loss: 1.3261 - val_accuracy: 0.6697 - val_loss: 1.3410\n",
      "Epoch 62/100\n",
      "\u001b[1m359/359\u001b[0m \u001b[32m━━━━━━━━━━━━━━━━━━━━\u001b[0m\u001b[37m\u001b[0m \u001b[1m30s\u001b[0m 81ms/step - accuracy: 0.6794 - loss: 1.3086 - val_accuracy: 0.6746 - val_loss: 1.3437\n",
      "Epoch 63/100\n",
      "\u001b[1m359/359\u001b[0m \u001b[32m━━━━━━━━━━━━━━━━━━━━\u001b[0m\u001b[37m\u001b[0m \u001b[1m30s\u001b[0m 81ms/step - accuracy: 0.6740 - loss: 1.3125 - val_accuracy: 0.6557 - val_loss: 1.4094\n",
      "Epoch 64/100\n",
      "\u001b[1m359/359\u001b[0m \u001b[32m━━━━━━━━━━━━━━━━━━━━\u001b[0m\u001b[37m\u001b[0m \u001b[1m29s\u001b[0m 78ms/step - accuracy: 0.6771 - loss: 1.3245 - val_accuracy: 0.6697 - val_loss: 1.3563\n",
      "Epoch 65/100\n",
      "\u001b[1m359/359\u001b[0m \u001b[32m━━━━━━━━━━━━━━━━━━━━\u001b[0m\u001b[37m\u001b[0m \u001b[1m29s\u001b[0m 80ms/step - accuracy: 0.6738 - loss: 1.3246 - val_accuracy: 0.6697 - val_loss: 1.3398\n",
      "Epoch 66/100\n",
      "\u001b[1m359/359\u001b[0m \u001b[32m━━━━━━━━━━━━━━━━━━━━\u001b[0m\u001b[37m\u001b[0m \u001b[1m29s\u001b[0m 81ms/step - accuracy: 0.6803 - loss: 1.3121 - val_accuracy: 0.6711 - val_loss: 1.3515\n",
      "Epoch 67/100\n",
      "\u001b[1m359/359\u001b[0m \u001b[32m━━━━━━━━━━━━━━━━━━━━\u001b[0m\u001b[37m\u001b[0m \u001b[1m30s\u001b[0m 83ms/step - accuracy: 0.6798 - loss: 1.3124 - val_accuracy: 0.6816 - val_loss: 1.3675\n",
      "Epoch 68/100\n",
      "\u001b[1m359/359\u001b[0m \u001b[32m━━━━━━━━━━━━━━━━━━━━\u001b[0m\u001b[37m\u001b[0m \u001b[1m29s\u001b[0m 79ms/step - accuracy: 0.6730 - loss: 1.3335 - val_accuracy: 0.6725 - val_loss: 1.3537\n",
      "Epoch 69/100\n",
      "\u001b[1m359/359\u001b[0m \u001b[32m━━━━━━━━━━━━━━━━━━━━\u001b[0m\u001b[37m\u001b[0m \u001b[1m31s\u001b[0m 84ms/step - accuracy: 0.6817 - loss: 1.3208 - val_accuracy: 0.6634 - val_loss: 1.3902\n",
      "Epoch 70/100\n",
      "\u001b[1m359/359\u001b[0m \u001b[32m━━━━━━━━━━━━━━━━━━━━\u001b[0m\u001b[37m\u001b[0m \u001b[1m28s\u001b[0m 78ms/step - accuracy: 0.6759 - loss: 1.3341 - val_accuracy: 0.6606 - val_loss: 1.3759\n",
      "Epoch 71/100\n",
      "\u001b[1m359/359\u001b[0m \u001b[32m━━━━━━━━━━━━━━━━━━━━\u001b[0m\u001b[37m\u001b[0m \u001b[1m29s\u001b[0m 79ms/step - accuracy: 0.6877 - loss: 1.2998 - val_accuracy: 0.6550 - val_loss: 1.3715\n",
      "Epoch 72/100\n",
      "\u001b[1m359/359\u001b[0m \u001b[32m━━━━━━━━━━━━━━━━━━━━\u001b[0m\u001b[37m\u001b[0m \u001b[1m28s\u001b[0m 78ms/step - accuracy: 0.6929 - loss: 1.2950 - val_accuracy: 0.6613 - val_loss: 1.3749\n",
      "Epoch 73/100\n",
      "\u001b[1m359/359\u001b[0m \u001b[32m━━━━━━━━━━━━━━━━━━━━\u001b[0m\u001b[37m\u001b[0m \u001b[1m30s\u001b[0m 81ms/step - accuracy: 0.6851 - loss: 1.3103 - val_accuracy: 0.6767 - val_loss: 1.3529\n",
      "Epoch 74/100\n",
      "\u001b[1m359/359\u001b[0m \u001b[32m━━━━━━━━━━━━━━━━━━━━\u001b[0m\u001b[37m\u001b[0m \u001b[1m29s\u001b[0m 79ms/step - accuracy: 0.6889 - loss: 1.3072 - val_accuracy: 0.6718 - val_loss: 1.3722\n",
      "Epoch 75/100\n",
      "\u001b[1m359/359\u001b[0m \u001b[32m━━━━━━━━━━━━━━━━━━━━\u001b[0m\u001b[37m\u001b[0m \u001b[1m31s\u001b[0m 85ms/step - accuracy: 0.6905 - loss: 1.3006 - val_accuracy: 0.6760 - val_loss: 1.3572\n",
      "Epoch 76/100\n",
      "\u001b[1m359/359\u001b[0m \u001b[32m━━━━━━━━━━━━━━━━━━━━\u001b[0m\u001b[37m\u001b[0m \u001b[1m31s\u001b[0m 84ms/step - accuracy: 0.6870 - loss: 1.3075 - val_accuracy: 0.6627 - val_loss: 1.3800\n",
      "Epoch 77/100\n",
      "\u001b[1m359/359\u001b[0m \u001b[32m━━━━━━━━━━━━━━━━━━━━\u001b[0m\u001b[37m\u001b[0m \u001b[1m30s\u001b[0m 81ms/step - accuracy: 0.6833 - loss: 1.3158 - val_accuracy: 0.6606 - val_loss: 1.3827\n",
      "Epoch 78/100\n",
      "\u001b[1m359/359\u001b[0m \u001b[32m━━━━━━━━━━━━━━━━━━━━\u001b[0m\u001b[37m\u001b[0m \u001b[1m30s\u001b[0m 82ms/step - accuracy: 0.6956 - loss: 1.2905 - val_accuracy: 0.6718 - val_loss: 1.3430\n",
      "Epoch 79/100\n",
      "\u001b[1m359/359\u001b[0m \u001b[32m━━━━━━━━━━━━━━━━━━━━\u001b[0m\u001b[37m\u001b[0m \u001b[1m30s\u001b[0m 82ms/step - accuracy: 0.6880 - loss: 1.3202 - val_accuracy: 0.6662 - val_loss: 1.3862\n",
      "Epoch 80/100\n",
      "\u001b[1m359/359\u001b[0m \u001b[32m━━━━━━━━━━━━━━━━━━━━\u001b[0m\u001b[37m\u001b[0m \u001b[1m29s\u001b[0m 78ms/step - accuracy: 0.6909 - loss: 1.3104 - val_accuracy: 0.6739 - val_loss: 1.3756\n",
      "Epoch 81/100\n",
      "\u001b[1m359/359\u001b[0m \u001b[32m━━━━━━━━━━━━━━━━━━━━\u001b[0m\u001b[37m\u001b[0m \u001b[1m29s\u001b[0m 79ms/step - accuracy: 0.6925 - loss: 1.2926 - val_accuracy: 0.6683 - val_loss: 1.3636\n",
      "Epoch 82/100\n",
      "\u001b[1m359/359\u001b[0m \u001b[32m━━━━━━━━━━━━━━━━━━━━\u001b[0m\u001b[37m\u001b[0m \u001b[1m29s\u001b[0m 80ms/step - accuracy: 0.6900 - loss: 1.3048 - val_accuracy: 0.6746 - val_loss: 1.3947\n",
      "Epoch 83/100\n",
      "\u001b[1m359/359\u001b[0m \u001b[32m━━━━━━━━━━━━━━━━━━━━\u001b[0m\u001b[37m\u001b[0m \u001b[1m29s\u001b[0m 80ms/step - accuracy: 0.6881 - loss: 1.3081 - val_accuracy: 0.6683 - val_loss: 1.4016\n",
      "Epoch 84/100\n",
      "\u001b[1m359/359\u001b[0m \u001b[32m━━━━━━━━━━━━━━━━━━━━\u001b[0m\u001b[37m\u001b[0m \u001b[1m29s\u001b[0m 79ms/step - accuracy: 0.6913 - loss: 1.3049 - val_accuracy: 0.6683 - val_loss: 1.4381\n",
      "Epoch 85/100\n",
      "\u001b[1m359/359\u001b[0m \u001b[32m━━━━━━━━━━━━━━━━━━━━\u001b[0m\u001b[37m\u001b[0m \u001b[1m28s\u001b[0m 76ms/step - accuracy: 0.6899 - loss: 1.3166 - val_accuracy: 0.6913 - val_loss: 1.3725\n",
      "Epoch 86/100\n",
      "\u001b[1m359/359\u001b[0m \u001b[32m━━━━━━━━━━━━━━━━━━━━\u001b[0m\u001b[37m\u001b[0m \u001b[1m30s\u001b[0m 81ms/step - accuracy: 0.6989 - loss: 1.3004 - val_accuracy: 0.6837 - val_loss: 1.3913\n",
      "Epoch 87/100\n",
      "\u001b[1m359/359\u001b[0m \u001b[32m━━━━━━━━━━━━━━━━━━━━\u001b[0m\u001b[37m\u001b[0m \u001b[1m29s\u001b[0m 80ms/step - accuracy: 0.6969 - loss: 1.2965 - val_accuracy: 0.6767 - val_loss: 1.3859\n",
      "Epoch 88/100\n",
      "\u001b[1m359/359\u001b[0m \u001b[32m━━━━━━━━━━━━━━━━━━━━\u001b[0m\u001b[37m\u001b[0m \u001b[1m30s\u001b[0m 83ms/step - accuracy: 0.7050 - loss: 1.2940 - val_accuracy: 0.6906 - val_loss: 1.3891\n",
      "Epoch 89/100\n",
      "\u001b[1m359/359\u001b[0m \u001b[32m━━━━━━━━━━━━━━━━━━━━\u001b[0m\u001b[37m\u001b[0m \u001b[1m29s\u001b[0m 80ms/step - accuracy: 0.6991 - loss: 1.2982 - val_accuracy: 0.6823 - val_loss: 1.3850\n",
      "Epoch 90/100\n",
      "\u001b[1m359/359\u001b[0m \u001b[32m━━━━━━━━━━━━━━━━━━━━\u001b[0m\u001b[37m\u001b[0m \u001b[1m31s\u001b[0m 84ms/step - accuracy: 0.6978 - loss: 1.3027 - val_accuracy: 0.6676 - val_loss: 1.4131\n",
      "Epoch 91/100\n",
      "\u001b[1m359/359\u001b[0m \u001b[32m━━━━━━━━━━━━━━━━━━━━\u001b[0m\u001b[37m\u001b[0m \u001b[1m30s\u001b[0m 81ms/step - accuracy: 0.7049 - loss: 1.2835 - val_accuracy: 0.6718 - val_loss: 1.4180\n",
      "Epoch 92/100\n",
      "\u001b[1m359/359\u001b[0m \u001b[32m━━━━━━━━━━━━━━━━━━━━\u001b[0m\u001b[37m\u001b[0m \u001b[1m31s\u001b[0m 85ms/step - accuracy: 0.7081 - loss: 1.2846 - val_accuracy: 0.6501 - val_loss: 1.4832\n",
      "Epoch 93/100\n",
      "\u001b[1m359/359\u001b[0m \u001b[32m━━━━━━━━━━━━━━━━━━━━\u001b[0m\u001b[37m\u001b[0m \u001b[1m30s\u001b[0m 82ms/step - accuracy: 0.7077 - loss: 1.2762 - val_accuracy: 0.6676 - val_loss: 1.3791\n",
      "Epoch 94/100\n",
      "\u001b[1m359/359\u001b[0m \u001b[32m━━━━━━━━━━━━━━━━━━━━\u001b[0m\u001b[37m\u001b[0m \u001b[1m31s\u001b[0m 84ms/step - accuracy: 0.7070 - loss: 1.2822 - val_accuracy: 0.6676 - val_loss: 1.4346\n",
      "Epoch 95/100\n",
      "\u001b[1m359/359\u001b[0m \u001b[32m━━━━━━━━━━━━━━━━━━━━\u001b[0m\u001b[37m\u001b[0m \u001b[1m32s\u001b[0m 87ms/step - accuracy: 0.7051 - loss: 1.2890 - val_accuracy: 0.6669 - val_loss: 1.4019\n",
      "Epoch 96/100\n",
      "\u001b[1m359/359\u001b[0m \u001b[32m━━━━━━━━━━━━━━━━━━━━\u001b[0m\u001b[37m\u001b[0m \u001b[1m34s\u001b[0m 92ms/step - accuracy: 0.7027 - loss: 1.2937 - val_accuracy: 0.6872 - val_loss: 1.3800\n",
      "Epoch 97/100\n",
      "\u001b[1m359/359\u001b[0m \u001b[32m━━━━━━━━━━━━━━━━━━━━\u001b[0m\u001b[37m\u001b[0m \u001b[1m33s\u001b[0m 90ms/step - accuracy: 0.7051 - loss: 1.2811 - val_accuracy: 0.6760 - val_loss: 1.4150\n",
      "Epoch 98/100\n",
      "\u001b[1m359/359\u001b[0m \u001b[32m━━━━━━━━━━━━━━━━━━━━\u001b[0m\u001b[37m\u001b[0m \u001b[1m32s\u001b[0m 86ms/step - accuracy: 0.7055 - loss: 1.2860 - val_accuracy: 0.6704 - val_loss: 1.3871\n",
      "Epoch 99/100\n",
      "\u001b[1m359/359\u001b[0m \u001b[32m━━━━━━━━━━━━━━━━━━━━\u001b[0m\u001b[37m\u001b[0m \u001b[1m30s\u001b[0m 82ms/step - accuracy: 0.7018 - loss: 1.2864 - val_accuracy: 0.6704 - val_loss: 1.3803\n",
      "Epoch 100/100\n",
      "\u001b[1m359/359\u001b[0m \u001b[32m━━━━━━━━━━━━━━━━━━━━\u001b[0m\u001b[37m\u001b[0m \u001b[1m29s\u001b[0m 80ms/step - accuracy: 0.7118 - loss: 1.2722 - val_accuracy: 0.6732 - val_loss: 1.4062\n",
      "Model trained and saved at /kaggle/working/model_fer2013.h5\n"
     ]
    }
   ],
   "source": [
    "# Define the path to save or load the model\n",
    "model_path = '/kaggle/working/model_fer2013.h5'\n",
    "\n",
    "if os.path.exists(model_path):\n",
    "    print(\"Loading pre-trained model...\")\n",
    "    model = tf.keras.models.load_model(model_path)\n",
    "else:\n",
    "    print(\"Training a new model from scratch...\")\n",
    "    \n",
    "    # Compile the model (ensures it's ready for training)\n",
    "    model.compile(optimizer=tf.keras.optimizers.Adam(learning_rate=0.0001),\n",
    "                  loss='categorical_crossentropy',\n",
    "                  metrics=['accuracy'])\n",
    "\n",
    "    # Train the model\n",
    "    history = model.fit(x=train_generator,\n",
    "                        epochs=100,\n",
    "                        validation_data=validation_generator)\n",
    "\n",
    "    # Save the trained model\n",
    "    model.save(model_path)\n",
    "    print(f\"Model trained and saved at {model_path}\")\n"
   ]
  },
  {
   "cell_type": "code",
   "execution_count": 11,
   "id": "13de2874",
   "metadata": {
    "execution": {
     "iopub.execute_input": "2024-12-26T06:37:16.381179Z",
     "iopub.status.busy": "2024-12-26T06:37:16.380845Z",
     "iopub.status.idle": "2024-12-26T06:37:16.809935Z",
     "shell.execute_reply": "2024-12-26T06:37:16.808998Z"
    },
    "papermill": {
     "duration": 2.224003,
     "end_time": "2024-12-26T06:37:16.811136",
     "exception": false,
     "start_time": "2024-12-26T06:37:14.587133",
     "status": "completed"
    },
    "tags": []
   },
   "outputs": [
    {
     "data": {
      "image/png": "[encoded data removed]",
      "text/plain": [
       "<Figure size 640x480 with 1 Axes>"
      ]
     },
     "metadata": {},
     "output_type": "display_data"
    },
    {
     "data": {
      "text/plain": [
       "<Figure size 640x480 with 0 Axes>"
      ]
     },
     "metadata": {},
     "output_type": "display_data"
    },
    {
     "data": {
      "image/png": "[encoded data removed]",
      "text/plain": [
       "<Figure size 640x480 with 1 Axes>"
      ]
     },
     "metadata": {},
     "output_type": "display_data"
    }
   ],
   "source": [
    "import matplotlib.pyplot as plt\n",
    "\n",
    "# Extract training and validation accuracy and loss values from the history object\n",
    "accuracy = history.history['accuracy']  \n",
    "val_acc = history.history['val_accuracy']  \n",
    "loss = history.history['loss']  \n",
    "val_loss = history.history['val_loss']  \n",
    "\n",
    "# Define the range for epochs (number of iterations)\n",
    "epochs = range(len(accuracy))\n",
    "\n",
    "# Plot training and validation accuracy\n",
    "plt.plot(epochs, accuracy, 'r', label='Training accuracy')  \n",
    "plt.plot(epochs, val_acc, 'b', label='Validation accuracy')  \n",
    "plt.title('Training and Validation Accuracy')  \n",
    "plt.legend(loc=0)  \n",
    "plt.figure()  \n",
    "\n",
    "# Show the plot for accuracy\n",
    "plt.show()\n",
    "\n",
    "# Plot training and validation loss\n",
    "plt.plot(epochs, loss, 'r', label='Training loss')  \n",
    "plt.plot(epochs, val_loss, 'b', label='Validation loss')  \n",
    "plt.title('Training and Validation Loss')  \n",
    "plt.legend(loc=0)  \n",
    "\n",
    "# Show the plot for loss\n",
    "plt.show()\n"
   ]
  },
  {
   "cell_type": "code",
   "execution_count": 12,
   "id": "461bb05e",
   "metadata": {
    "execution": {
     "iopub.execute_input": "2024-12-26T06:37:20.415557Z",
     "iopub.status.busy": "2024-12-26T06:37:20.415204Z",
     "iopub.status.idle": "2024-12-26T06:37:20.597909Z",
     "shell.execute_reply": "2024-12-26T06:37:20.596935Z"
    },
    "papermill": {
     "duration": 1.986924,
     "end_time": "2024-12-26T06:37:20.599603",
     "exception": false,
     "start_time": "2024-12-26T06:37:18.612679",
     "status": "completed"
    },
    "tags": []
   },
   "outputs": [],
   "source": [
    "# Save the trained model to a file in H5 format\n",
    "model.save('model_fer2013.h5')  \n"
   ]
  },
  {
   "cell_type": "code",
   "execution_count": 13,
   "id": "9d6f9833",
   "metadata": {
    "execution": {
     "iopub.execute_input": "2024-12-26T06:37:24.257932Z",
     "iopub.status.busy": "2024-12-26T06:37:24.257603Z",
     "iopub.status.idle": "2024-12-26T06:37:56.092521Z",
     "shell.execute_reply": "2024-12-26T06:37:56.091607Z"
    },
    "papermill": {
     "duration": 34.480361,
     "end_time": "2024-12-26T06:37:56.880239",
     "exception": false,
     "start_time": "2024-12-26T06:37:22.399878",
     "status": "completed"
    },
    "tags": []
   },
   "outputs": [
    {
     "name": "stdout",
     "output_type": "stream",
     "text": [
      "\u001b[1m359/359\u001b[0m \u001b[32m━━━━━━━━━━━━━━━━━━━━\u001b[0m\u001b[37m\u001b[0m \u001b[1m30s\u001b[0m 84ms/step - accuracy: 0.7682 - loss: 1.1285\n",
      "\u001b[1m23/23\u001b[0m \u001b[32m━━━━━━━━━━━━━━━━━━━━\u001b[0m\u001b[37m\u001b[0m \u001b[1m1s\u001b[0m 52ms/step - accuracy: 0.6681 - loss: 1.4370\n",
      "Final training accuracy = 76.53%, validation accuracy = 67.32%\n"
     ]
    }
   ],
   "source": [
    "# Evaluate the model on the training data\n",
    "train_loss, train_acc = model.evaluate(train_generator)  \n",
    "\n",
    "# Evaluate the model on the validation (test) data\n",
    "test_loss, test_acc = model.evaluate(validation_generator) \n",
    "\n",
    "# Print the final training and validation accuracies as percentages\n",
    "print(\"Final training accuracy = {:.2f}%, validation accuracy = {:.2f}%\".format(train_acc * 100, test_acc * 100))\n"
   ]
  },
  {
   "cell_type": "code",
   "execution_count": 14,
   "id": "57c39551",
   "metadata": {
    "execution": {
     "iopub.execute_input": "2024-12-26T06:38:00.472077Z",
     "iopub.status.busy": "2024-12-26T06:38:00.471517Z",
     "iopub.status.idle": "2024-12-26T06:38:00.527917Z",
     "shell.execute_reply": "2024-12-26T06:38:00.526716Z"
    },
    "papermill": {
     "duration": 1.837208,
     "end_time": "2024-12-26T06:38:00.530422",
     "exception": false,
     "start_time": "2024-12-26T06:37:58.693214",
     "status": "completed"
    },
    "tags": []
   },
   "outputs": [
    {
     "data": {
      "image/png": "[encoded data removed]",
      "text/plain": [
       "<Figure size 640x480 with 1 Axes>"
      ]
     },
     "metadata": {},
     "output_type": "display_data"
    },
    {
     "name": "stdout",
     "output_type": "stream",
     "text": [
      "Image shape: (48, 48)\n"
     ]
    }
   ],
   "source": [
    "from keras.preprocessing import image\n",
    "import numpy as np\n",
    "import matplotlib.pyplot as plt\n",
    "\n",
    "# Load the image from the specified path, resize it to 48x48 pixels, and convert it to grayscale\n",
    "img = image.load_img(\"/kaggle/input/fer2013/test/surprise/PublicTest_7431524.jpg\", target_size=(48, 48), color_mode=\"grayscale\")\n",
    "\n",
    "# Convert the loaded image into a numpy array\n",
    "img = np.array(img)\n",
    "\n",
    "# Display the image using matplotlib\n",
    "plt.imshow(img, cmap='gray')  \n",
    "plt.axis('off')  \n",
    "plt.show()\n",
    "\n",
    "# Print the shape of the image array\n",
    "print(f\"Image shape: {img.shape}\")\n"
   ]
  },
  {
   "cell_type": "code",
   "execution_count": 15,
   "id": "467a8205",
   "metadata": {
    "execution": {
     "iopub.execute_input": "2024-12-26T06:38:04.335590Z",
     "iopub.status.busy": "2024-12-26T06:38:04.335252Z",
     "iopub.status.idle": "2024-12-26T06:38:04.339194Z",
     "shell.execute_reply": "2024-12-26T06:38:04.338298Z"
    },
    "papermill": {
     "duration": 1.80346,
     "end_time": "2024-12-26T06:38:04.340444",
     "exception": false,
     "start_time": "2024-12-26T06:38:02.536984",
     "status": "completed"
    },
    "tags": []
   },
   "outputs": [],
   "source": [
    "# Dictionary mapping numeric labels to emotion categories\n",
    "label_dict = {\n",
    "    0: 'Angry',     \n",
    "    1: 'Disgust',   \n",
    "    2: 'Fear',      \n",
    "    3: 'Happy',     \n",
    "    4: 'Neutral',   \n",
    "    5: 'Sad',       \n",
    "    6: 'Surprise'   \n",
    "}\n"
   ]
  },
  {
   "cell_type": "code",
   "execution_count": 16,
   "id": "bf39af0e",
   "metadata": {
    "execution": {
     "iopub.execute_input": "2024-12-26T06:38:08.032326Z",
     "iopub.status.busy": "2024-12-26T06:38:08.031756Z",
     "iopub.status.idle": "2024-12-26T06:38:08.814963Z",
     "shell.execute_reply": "2024-12-26T06:38:08.814085Z"
    },
    "papermill": {
     "duration": 2.664572,
     "end_time": "2024-12-26T06:38:08.816235",
     "exception": false,
     "start_time": "2024-12-26T06:38:06.151663",
     "status": "completed"
    },
    "tags": []
   },
   "outputs": [
    {
     "name": "stdout",
     "output_type": "stream",
     "text": [
      "\u001b[1m1/1\u001b[0m \u001b[32m━━━━━━━━━━━━━━━━━━━━\u001b[0m\u001b[37m\u001b[0m \u001b[1m1s\u001b[0m 726ms/step\n",
      "[0.0, 0.0, 0.0, 0.0, 0.0, 0.0, 1.0]\n"
     ]
    }
   ],
   "source": [
    "img = np.expand_dims(img, axis=0)  # The shape becomes (1, 48, 48) - adding the batch dimension\n",
    "\n",
    "img = img.reshape(1, 48, 48, 1)  # The shape becomes (1, 48, 48, 1)\n",
    "\n",
    "result = model.predict(img)\n",
    "\n",
    "# Convert the result \n",
    "result = list(result[0])\n",
    "\n",
    "print(result)\n"
   ]
  },
  {
   "cell_type": "code",
   "execution_count": 17,
   "id": "18ba0fd6",
   "metadata": {
    "execution": {
     "iopub.execute_input": "2024-12-26T06:38:12.426802Z",
     "iopub.status.busy": "2024-12-26T06:38:12.426463Z",
     "iopub.status.idle": "2024-12-26T06:38:12.431273Z",
     "shell.execute_reply": "2024-12-26T06:38:12.430348Z"
    },
    "papermill": {
     "duration": 1.82418,
     "end_time": "2024-12-26T06:38:12.432704",
     "exception": false,
     "start_time": "2024-12-26T06:38:10.608524",
     "status": "completed"
    },
    "tags": []
   },
   "outputs": [
    {
     "name": "stdout",
     "output_type": "stream",
     "text": [
      "Surprise\n"
     ]
    }
   ],
   "source": [
    "\n",
    "img_index = result.index(max(result))  \n",
    "\n",
    "\n",
    "print(label_dict[img_index])  # Print the predicted emotion label\n",
    "\n",
    "plt.show()  # Show the image plot \n"
   ]
  },
  {
   "cell_type": "code",
   "execution_count": 18,
   "id": "b6a255ee",
   "metadata": {
    "execution": {
     "iopub.execute_input": "2024-12-26T06:38:16.047161Z",
     "iopub.status.busy": "2024-12-26T06:38:16.046857Z",
     "iopub.status.idle": "2024-12-26T06:38:16.189829Z",
     "shell.execute_reply": "2024-12-26T06:38:16.188864Z"
    },
    "papermill": {
     "duration": 1.951379,
     "end_time": "2024-12-26T06:38:16.191540",
     "exception": false,
     "start_time": "2024-12-26T06:38:14.240161",
     "status": "completed"
    },
    "tags": []
   },
   "outputs": [],
   "source": [
    "model.save_weights('model_weights.weights.h5')\n"
   ]
  }
 ],
 "metadata": {
  "kaggle": {
   "accelerator": "gpu",
   "dataSources": [
    {
     "datasetId": 786787,
     "sourceId": 1351797,
     "sourceType": "datasetVersion"
    }
   ],
   "dockerImageVersionId": 30823,
   "isGpuEnabled": true,
   "isInternetEnabled": true,
   "language": "python",
   "sourceType": "notebook"
  },
  "kernelspec": {
   "display_name": "Python 3",
   "language": "python",
   "name": "python3"
  },
  "language_info": {
   "codemirror_mode": {
    "name": "ipython",
    "version": 3
   },
   "file_extension": ".py",
   "mimetype": "text/x-python",
   "name": "python",
   "nbconvert_exporter": "python",
   "pygments_lexer": "ipython3",
   "version": "3.10.12"
  },
  "papermill": {
   "default_parameters": {},
   "duration": 3278.095582,
   "end_time": "2024-12-26T06:38:20.826715",
   "environment_variables": {},
   "exception": null,
   "input_path": "__notebook__.ipynb",
   "output_path": "__notebook__.ipynb",
   "parameters": {},
   "start_time": "2024-12-26T05:43:42.731133",
   "version": "2.6.0"
  }
 },
 "nbformat": 4,
 "nbformat_minor": 5
}
